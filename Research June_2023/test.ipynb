{
 "cells": [
  {
   "cell_type": "code",
   "execution_count": 1,
   "metadata": {},
   "outputs": [
    {
     "ename": "ValueError",
     "evalue": "Missing learning rate, please set self.learning_rate at optimizer creation time.",
     "output_type": "error",
     "traceback": [
      "\u001b[1;31m---------------------------------------------------------------------------\u001b[0m",
      "\u001b[1;31mValueError\u001b[0m                                Traceback (most recent call last)",
      "Cell \u001b[1;32mIn[1], line 22\u001b[0m\n\u001b[0;32m     19\u001b[0m model\u001b[39m.\u001b[39madd(Dense(\u001b[39m1\u001b[39m))\n\u001b[0;32m     21\u001b[0m \u001b[39m# Compile your model with your custom optimizer\u001b[39;00m\n\u001b[1;32m---> 22\u001b[0m model\u001b[39m.\u001b[39mcompile(optimizer\u001b[39m=\u001b[39mAAdamOptimizer(learning_rate\u001b[39m=\u001b[39;49m\u001b[39m0.001\u001b[39;49m), loss\u001b[39m=\u001b[39m\u001b[39m'\u001b[39m\u001b[39mmean_squared_error\u001b[39m\u001b[39m'\u001b[39m)\n\u001b[0;32m     24\u001b[0m \u001b[39m# Train your model\u001b[39;00m\n\u001b[0;32m     25\u001b[0m model\u001b[39m.\u001b[39mfit(x, y, epochs\u001b[39m=\u001b[39m\u001b[39m50\u001b[39m, batch_size\u001b[39m=\u001b[39m\u001b[39m32\u001b[39m)\n",
      "File \u001b[1;32mc:\\Users\\Eulises\\Documents\\UTSA\\Halal Jaber Papers\\NeuralNet_Research\\Latest Papers\\AAdam01.py:16\u001b[0m, in \u001b[0;36mAAdamOptimizer.__init__\u001b[1;34m(self, learning_rate, beta1, beta2, epsilon, name, **kwargs)\u001b[0m\n\u001b[0;32m     14\u001b[0m \u001b[39mdef\u001b[39;00m \u001b[39m__init__\u001b[39m(\u001b[39mself\u001b[39m, learning_rate\u001b[39m=\u001b[39m\u001b[39m0.001\u001b[39m, beta1\u001b[39m=\u001b[39m\u001b[39m0.9\u001b[39m, beta2\u001b[39m=\u001b[39m\u001b[39m0.999\u001b[39m, epsilon\u001b[39m=\u001b[39m\u001b[39m1e-8\u001b[39m, name\u001b[39m=\u001b[39m\u001b[39m\"\u001b[39m\u001b[39mAAdam\u001b[39m\u001b[39m\"\u001b[39m, \u001b[39m*\u001b[39m\u001b[39m*\u001b[39mkwargs):\n\u001b[0;32m     15\u001b[0m     \u001b[39msuper\u001b[39m(AAdamOptimizer, \u001b[39mself\u001b[39m)\u001b[39m.\u001b[39m\u001b[39m__init__\u001b[39m(name, \u001b[39m*\u001b[39m\u001b[39m*\u001b[39mkwargs)\n\u001b[1;32m---> 16\u001b[0m     \u001b[39mself\u001b[39;49m\u001b[39m.\u001b[39;49mlearning_rate \u001b[39m=\u001b[39m learning_rate\n\u001b[0;32m     17\u001b[0m     \u001b[39mself\u001b[39m\u001b[39m.\u001b[39mbeta1 \u001b[39m=\u001b[39m beta1\n\u001b[0;32m     18\u001b[0m     \u001b[39mself\u001b[39m\u001b[39m.\u001b[39mbeta2 \u001b[39m=\u001b[39m beta2\n",
      "File \u001b[1;32mc:\\Users\\Eulises\\AppData\\Local\\Programs\\Python\\Python310\\lib\\site-packages\\tensorflow\\python\\trackable\\autotrackable.py:61\u001b[0m, in \u001b[0;36mAutoTrackable.__setattr__\u001b[1;34m(self, name, value)\u001b[0m\n\u001b[0;32m     59\u001b[0m \u001b[39m\u001b[39m\u001b[39m\"\"\"Support self.foo = trackable syntax.\"\"\"\u001b[39;00m\n\u001b[0;32m     60\u001b[0m \u001b[39mtry\u001b[39;00m:\n\u001b[1;32m---> 61\u001b[0m   \u001b[39mif\u001b[39;00m \u001b[39mgetattr\u001b[39;49m(\u001b[39mself\u001b[39;49m, name) \u001b[39mis\u001b[39;00m value:\n\u001b[0;32m     62\u001b[0m     \u001b[39m# Short circuit for `self.$x = self.$x`.\u001b[39;00m\n\u001b[0;32m     63\u001b[0m     \u001b[39mreturn\u001b[39;00m\n\u001b[0;32m     64\u001b[0m \u001b[39mexcept\u001b[39;00m \u001b[39mAttributeError\u001b[39;00m:\n",
      "File \u001b[1;32mc:\\Users\\Eulises\\AppData\\Local\\Programs\\Python\\Python310\\lib\\site-packages\\keras\\optimizers\\optimizer.py:332\u001b[0m, in \u001b[0;36m_BaseOptimizer.learning_rate\u001b[1;34m(self)\u001b[0m\n\u001b[0;32m    329\u001b[0m \u001b[39m@property\u001b[39m\n\u001b[0;32m    330\u001b[0m \u001b[39mdef\u001b[39;00m \u001b[39mlearning_rate\u001b[39m(\u001b[39mself\u001b[39m):\n\u001b[0;32m    331\u001b[0m     \u001b[39mif\u001b[39;00m \u001b[39mnot\u001b[39;00m \u001b[39mhasattr\u001b[39m(\u001b[39mself\u001b[39m, \u001b[39m\"\u001b[39m\u001b[39m_learning_rate\u001b[39m\u001b[39m\"\u001b[39m) \u001b[39mor\u001b[39;00m \u001b[39mself\u001b[39m\u001b[39m.\u001b[39m_learning_rate \u001b[39mis\u001b[39;00m \u001b[39mNone\u001b[39;00m:\n\u001b[1;32m--> 332\u001b[0m         \u001b[39mraise\u001b[39;00m \u001b[39mValueError\u001b[39;00m(\n\u001b[0;32m    333\u001b[0m             \u001b[39m\"\u001b[39m\u001b[39mMissing learning rate, please set self.learning_rate at\u001b[39m\u001b[39m\"\u001b[39m\n\u001b[0;32m    334\u001b[0m             \u001b[39m\"\u001b[39m\u001b[39m optimizer creation time.\u001b[39m\u001b[39m\"\u001b[39m\n\u001b[0;32m    335\u001b[0m         )\n\u001b[0;32m    336\u001b[0m     lr \u001b[39m=\u001b[39m \u001b[39mself\u001b[39m\u001b[39m.\u001b[39m_learning_rate\n\u001b[0;32m    337\u001b[0m     \u001b[39mif\u001b[39;00m \u001b[39misinstance\u001b[39m(lr, learning_rate_schedule\u001b[39m.\u001b[39mLearningRateSchedule):\n\u001b[0;32m    338\u001b[0m         \u001b[39m# If the optimizer takes in LearningRateSchedule, then each call to\u001b[39;00m\n\u001b[0;32m    339\u001b[0m         \u001b[39m# learning_rate would return `self._current_learning_rate`, which is\u001b[39;00m\n\u001b[0;32m    340\u001b[0m         \u001b[39m# updated at each call to `apply_gradients`.\u001b[39;00m\n",
      "\u001b[1;31mValueError\u001b[0m: Missing learning rate, please set self.learning_rate at optimizer creation time."
     ]
    }
   ],
   "source": [
    "import tensorflow as tf\n",
    "from tensorflow.keras.models import Sequential\n",
    "from tensorflow.keras.layers import Dense\n",
    "from AAdam01 import AAdamOptimizer\n",
    "import numpy as np\n",
    "\n",
    "# Define your data\n",
    "x = np.linspace(-10, 10, 1000)\n",
    "y = np.cos(x)\n",
    "\n",
    "# Normalize your data if needed, here we just reshape it\n",
    "x = x.reshape(-1, 1)\n",
    "y = y.reshape(-1, 1)\n",
    "\n",
    "# Define your model\n",
    "model = Sequential()\n",
    "model.add(Dense(32, input_shape=(1,), activation='relu'))\n",
    "model.add(Dense(32, activation='relu'))\n",
    "model.add(Dense(1))\n",
    "\n",
    "# Compile your model with your custom optimizer\n",
    "model.compile(optimizer=AAdamOptimizer(), loss='mean_squared_error')\n",
    "\n",
    "# Train your model\n",
    "model.fit(x, y, epochs=50, batch_size=32)\n"
   ]
  },
  {
   "cell_type": "code",
   "execution_count": null,
   "metadata": {},
   "outputs": [],
   "source": []
  }
 ],
 "metadata": {
  "kernelspec": {
   "display_name": "Python 3",
   "language": "python",
   "name": "python3"
  },
  "language_info": {
   "codemirror_mode": {
    "name": "ipython",
    "version": 3
   },
   "file_extension": ".py",
   "mimetype": "text/x-python",
   "name": "python",
   "nbconvert_exporter": "python",
   "pygments_lexer": "ipython3",
   "version": "3.10.0"
  },
  "orig_nbformat": 4
 },
 "nbformat": 4,
 "nbformat_minor": 2
}
